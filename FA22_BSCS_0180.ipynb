{
  "cells": [
    {
      "cell_type": "markdown",
      "id": "4deca361",
      "metadata": {
        "id": "4deca361"
      },
      "source": [
        "# Data Science Basics\n"
      ]
    },
    {
      "cell_type": "markdown",
      "id": "8584f8dd",
      "metadata": {
        "id": "8584f8dd"
      },
      "source": [
        "## Introduction\n",
        "This notebook introduces basic concepts and tools used in Data Science. It includes examples, calculations, and lists of popular languages and libraries.\n"
      ]
    },
    {
      "cell_type": "markdown",
      "id": "6e6f4877",
      "metadata": {
        "id": "6e6f4877"
      },
      "source": [
        "## Data Science Languages\n",
        "- Python\n",
        "- R\n",
        "- SQL\n",
        "- Julia\n",
        "- Scala\n"
      ]
    },
    {
      "cell_type": "markdown",
      "id": "dd13d16f",
      "metadata": {
        "id": "dd13d16f"
      },
      "source": [
        "## Data Science Libraries\n",
        "- NumPy\n",
        "- Pandas\n",
        "- Matplotlib\n",
        "- Scikit-learn\n",
        "- TensorFlow\n",
        "- sklearn"
      ]
    },
    {
      "cell_type": "markdown",
      "id": "bf166aab",
      "metadata": {
        "id": "bf166aab"
      },
      "source": [
        "## Table of Data Science Tools\n",
        "\n",
        "| Tool           | Purpose                  |\n",
        "|----------------|--------------------------|\n",
        "| Jupyter        | Interactive notebooks    |\n",
        "| GitHub         | Version control          |\n",
        "| Tableau        | Data visualization       |\n",
        "| Power BI       | Business intelligence    |\n",
        "| VS Code        | Code editor              |\n"
      ]
    },
    {
      "cell_type": "markdown",
      "id": "8dec5e9b",
      "metadata": {
        "id": "8dec5e9b"
      },
      "source": [
        "## Arithmetic Expressions\n",
        "This section shows basic arithmetic expressions in Python:\n",
        "- Addition: `2 + 3`\n",
        "- Multiplication: `4 * 5`\n"
      ]
    },
    {
      "cell_type": "markdown",
      "id": "8f8ffcdc",
      "metadata": {
        "id": "8f8ffcdc"
      },
      "source": [
        "## Arithmetic Expressions\n",
        "This section shows basic arithmetic expressions in Python:\n",
        "- Addition: `2 + 3`\n",
        "- Multiplication: `4 * 5`\n"
      ]
    },
    {
      "cell_type": "markdown",
      "id": "3373704f",
      "metadata": {
        "id": "3373704f"
      },
      "source": [
        "### Addition and Multiplication\n",
        "\n"
      ]
    },
    {
      "cell_type": "code",
      "execution_count": null,
      "id": "e1fdb598",
      "metadata": {
        "id": "e1fdb598",
        "outputId": "f580d847-b5c8-4126-be8b-faa4870e896a"
      },
      "outputs": [
        {
          "name": "stdout",
          "output_type": "stream",
          "text": [
            "Addition: 65\n",
            "Multiplication: 1408\n"
          ]
        }
      ],
      "source": [
        "a = 32 + 33\n",
        "b = 44 * 32\n",
        "print(\"Addition:\", a)\n",
        "print(\"Multiplication:\", b)"
      ]
    },
    {
      "cell_type": "markdown",
      "id": "345ccbf6",
      "metadata": {
        "id": "345ccbf6"
      },
      "source": [
        "# Convert minutes to hours\n",
        "\n"
      ]
    },
    {
      "cell_type": "code",
      "execution_count": null,
      "id": "e558ae6f",
      "metadata": {
        "id": "e558ae6f",
        "outputId": "0be57cf1-48e8-4386-b552-a949c1f65231"
      },
      "outputs": [
        {
          "name": "stdout",
          "output_type": "stream",
          "text": [
            "Hours: 2.1666666666666665\n"
          ]
        }
      ],
      "source": [
        "minutes = 130\n",
        "hours = minutes / 60\n",
        "print(\"Hours:\", hours)"
      ]
    },
    {
      "cell_type": "markdown",
      "id": "4051bc6b",
      "metadata": {
        "id": "4051bc6b"
      },
      "source": [
        "## Objectives\n",
        "- Understand data science languages and libraries\n",
        "- Practice markdown formatting\n",
        "- Use arithmetic in Python\n",
        "- Convert time units\n"
      ]
    },
    {
      "cell_type": "markdown",
      "id": "dc1396af",
      "metadata": {
        "id": "dc1396af"
      },
      "source": [
        "**Author:** Syeda Fatima Farrukh\n",
        "\n",
        "> Add blockquote\n",
        "\n",
        "\n"
      ]
    },
    {
      "cell_type": "markdown",
      "id": "4c02fb6b",
      "metadata": {
        "id": "4c02fb6b"
      },
      "source": []
    }
  ],
  "metadata": {
    "kernelspec": {
      "display_name": "base",
      "language": "python",
      "name": "python3"
    },
    "language_info": {
      "codemirror_mode": {
        "name": "ipython",
        "version": 3
      },
      "file_extension": ".py",
      "mimetype": "text/x-python",
      "name": "python",
      "nbconvert_exporter": "python",
      "pygments_lexer": "ipython3",
      "version": "3.12.7"
    },
    "colab": {
      "provenance": []
    }
  },
  "nbformat": 4,
  "nbformat_minor": 5
}